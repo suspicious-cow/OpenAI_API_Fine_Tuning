{
 "cells": [
  {
   "cell_type": "markdown",
   "metadata": {},
   "source": [
    "# Working with Fine-Tuning\n",
    "\n",
    "# Part 1 - Getting Started"
   ]
  },
  {
   "cell_type": "markdown",
   "metadata": {},
   "source": [
    "## Univeral Code Used for the Entire Notebook\n",
    "\n",
    "Let's set up our libraries and client"
   ]
  },
  {
   "cell_type": "code",
   "execution_count": 41,
   "metadata": {},
   "outputs": [],
   "source": [
    "# Import necessary libraries and modules\n",
    "\n",
    "# OpenAI library for API interaction and event handling\n",
    "from openai import OpenAI  \n",
    "\n",
    "# JSON library for handling JSON data\n",
    "import json\n",
    "\n",
    "# TikToken library for token counting\n",
    "import tiktoken\n",
    "\n",
    "# NumPy library for numerical operations\n",
    "import numpy as np\n",
    "\n",
    "# defaultdict from the collections module for dictionary with default values\n",
    "from collections import defaultdict\n",
    "\n",
    "# Math library for mathematical operations\n",
    "import math\n",
    "\n",
    "import json\n",
    "import random\n",
    "from pathlib import Path\n"
   ]
  },
  {
   "cell_type": "code",
   "execution_count": null,
   "metadata": {},
   "outputs": [],
   "source": [
    "# Initialize the OpenAI client\n",
    "client = OpenAI()  "
   ]
  },
  {
   "cell_type": "markdown",
   "metadata": {},
   "source": [
    "## Training File Format Validation"
   ]
  },
  {
   "cell_type": "markdown",
   "metadata": {},
   "source": [
    "### Data Loading"
   ]
  },
  {
   "cell_type": "code",
   "execution_count": null,
   "metadata": {},
   "outputs": [],
   "source": [
    "# Define the path to the dataset file\n",
    "data_path = \"./artifacts/marv_fine_tune.jsonl\"\n",
    "\n",
    "# Load the dataset\n",
    "with open(data_path, 'r', encoding='utf-8') as file:\n",
    "    dataset = [json.loads(line) for line in file]\n",
    "\n",
    "# Print initial dataset statistics\n",
    "print(\"Number of examples:\", len(dataset))\n",
    "print(\"First example:\")\n",
    "\n",
    "# Print messages from the first example in the dataset\n",
    "for message in dataset[0][\"messages\"]:\n",
    "    print(message)\n"
   ]
  },
  {
   "cell_type": "markdown",
   "metadata": {},
   "source": [
    "### Format Validation\n",
    "\n",
    "We can perform a variety of error checks to validate that each conversation in the dataset adheres to the format expected by the fine-tuning API. Errors are categorized based on their nature for easier debugging.\n",
    "\n",
    "1. **Data Type Check**: Checks whether each entry in the dataset is a dictionary (dict). Error type: `data_type`.\n",
    "\n",
    "2. **Presence of Message List**: Checks if a `messages` list is present in each entry. Error type: `missing_messages_list`.\n",
    "\n",
    "3. **Message Keys Check**: Validates that each message in the `messages` list contains the keys `role` and `content`. Error type: `message_missing_key`.\n",
    "\n",
    "4. **Unrecognized Keys in Messages**: Logs if a message has keys other than `role`, `content`, `weight`, `function_call`, and `name`. Error type: `message_unrecognized_key`.\n",
    "\n",
    "5. **Role Validation**: Ensures the `role` is one of \"system\", \"user\", or \"assistant\". Error type: `unrecognized_role`.\n",
    "\n",
    "6. **Content Validation**: Verifies that `content` has textual data and is a string. Error type: `missing_content`.\n",
    "\n",
    "7. **Assistant Message Presence**: Checks that each conversation has at least one message from the assistant. Error type: `example_missing_assistant_message`.\n"
   ]
  },
  {
   "cell_type": "code",
   "execution_count": null,
   "metadata": {},
   "outputs": [],
   "source": [
    "# Dictionary to track format errors\n",
    "format_errors = defaultdict(int)\n",
    "\n",
    "# Iterate through each example in the dataset\n",
    "for ex in dataset:\n",
    "    # Check if the example is a dictionary\n",
    "    if not isinstance(ex, dict):\n",
    "        format_errors[\"data_type\"] += 1\n",
    "        continue\n",
    "    \n",
    "    # Retrieve the messages list from the example\n",
    "    messages = ex.get(\"messages\", None)\n",
    "    if not messages:\n",
    "        format_errors[\"missing_messages_list\"] += 1\n",
    "        continue\n",
    "    \n",
    "    # Check each message in the messages list\n",
    "    for message in messages:\n",
    "        # Check if required keys are present in the message\n",
    "        if \"role\" not in message or \"content\" not in message:\n",
    "            format_errors[\"message_missing_key\"] += 1\n",
    "        \n",
    "        # Check for any unrecognized keys in the message\n",
    "        if any(k not in (\"role\", \"content\", \"name\", \"function_call\", \"weight\") for k in message):\n",
    "            format_errors[\"message_unrecognized_key\"] += 1\n",
    "        \n",
    "        # Validate the role value in the message\n",
    "        if message.get(\"role\", None) not in (\"system\", \"user\", \"assistant\", \"function\"):\n",
    "            format_errors[\"unrecognized_role\"] += 1\n",
    "        \n",
    "        # Check content and function_call in the message\n",
    "        content = message.get(\"content\", None)\n",
    "        function_call = message.get(\"function_call\", None)\n",
    "        if (not content and not function_call) or not isinstance(content, str):\n",
    "            format_errors[\"missing_content\"] += 1\n",
    "    \n",
    "    # Ensure at least one message from the assistant is present\n",
    "    if not any(message.get(\"role\", None) == \"assistant\" for message in messages):\n",
    "        format_errors[\"example_missing_assistant_message\"] += 1\n",
    "\n",
    "# Print the results of the error checks\n",
    "if format_errors:\n",
    "    print(\"Found errors:\")\n",
    "    for key, value in format_errors.items():\n",
    "        print(f\"{key}: {value}\")\n",
    "else:\n",
    "    print(\"No errors found\")\n"
   ]
  },
  {
   "cell_type": "markdown",
   "metadata": {},
   "source": [
    "### Token Counting Utilities\n",
    "\n",
    "A few helpful utilities to be used in the rest of the notebook."
   ]
  },
  {
   "cell_type": "code",
   "execution_count": null,
   "metadata": {},
   "outputs": [],
   "source": [
    "\n",
    "# Automatically get the encoding for a specific model\n",
    "encoding = tiktoken.encoding_for_model(\"gpt-4o\")\n",
    "\n",
    "\n",
    "def num_tokens_from_messages(messages, tokens_per_message=3, tokens_per_name=1):\n",
    "    \"\"\"\n",
    "    Calculate the number of tokens in a list of messages.\n",
    "    \n",
    "    Args:\n",
    "        messages (list): List of message dictionaries.\n",
    "        tokens_per_message (int): Base tokens per message.\n",
    "        tokens_per_name (int): Additional tokens for the 'name' field.\n",
    "\n",
    "    Returns:\n",
    "        int: Total number of tokens.\n",
    "    \"\"\"\n",
    "    num_tokens = 0\n",
    "    for message in messages:\n",
    "        num_tokens += tokens_per_message\n",
    "        for key, value in message.items():\n",
    "            try:\n",
    "                num_tokens += len(encoding.encode(str(value)))\n",
    "            except Exception as e:\n",
    "                print(f\"Error encoding key: {key}, value: {value}, type: {type(value)}\")\n",
    "                print(f\"Error message: {str(e)}\")\n",
    "                raise\n",
    "            if key == \"name\":\n",
    "                num_tokens += tokens_per_name\n",
    "    num_tokens += 3  # Adding 3 tokens for end of sequence\n",
    "    return num_tokens\n",
    "\n",
    "def num_assistant_tokens_from_messages(messages):\n",
    "    \"\"\"\n",
    "    Calculate the number of tokens in assistant messages.\n",
    "    \n",
    "    Args:\n",
    "        messages (list): List of message dictionaries.\n",
    "\n",
    "    Returns:\n",
    "        int: Total number of tokens in assistant messages.\n",
    "    \"\"\"\n",
    "    num_tokens = 0\n",
    "    for message in messages:\n",
    "        if message[\"role\"] == \"assistant\":\n",
    "            num_tokens += len(encoding.encode(str(message[\"content\"])))  # Convert content to string\n",
    "    return num_tokens\n",
    "\n",
    "# Function to print the distribution of values\n",
    "def print_distribution(values, name):\n",
    "    \"\"\"\n",
    "    Print the distribution statistics of a list of values.\n",
    "    \n",
    "    Args:\n",
    "        values (list): List of numerical values.\n",
    "        name (str): Description of the values.\n",
    "    \"\"\"\n",
    "    print(f\"\\n#### Distribution of {name}:\")\n",
    "    print(f\"min / max: {min(values)} / {max(values)}\")\n",
    "    print(f\"mean / median: {np.mean(values)} / {np.median(values)}\")\n",
    "    print(f\"p5 / p95: {np.quantile(values, 0.05)} / {np.quantile(values, 0.95)}\")\n"
   ]
  },
  {
   "cell_type": "markdown",
   "metadata": {},
   "source": [
    "### Data Warnings and Token Counts\n",
    "\n",
    "With some lightweight analysis we can identify potential issues in the dataset, like missing messages, and provide statistical insights into message and token counts.\n",
    "\n",
    "1. **Missing System/User Messages**: Counts the number of conversations missing a \"system\" or \"user\" message. Such messages are critical for defining the assistant's behavior and initiating the conversation.\n",
    "\n",
    "2. **Number of Messages Per Example**: Summarizes the distribution of the number of messages in each conversation, providing insight into dialogue complexity.\n",
    "\n",
    "3. **Total Tokens Per Example**: Calculates and summarizes the distribution of the total number of tokens in each conversation. Important for understanding fine-tuning costs.\n",
    "\n",
    "4. **Tokens in Assistant's Messages**: Calculates the number of tokens in the assistant's messages per conversation and summarizes this distribution. Useful for understanding the assistant's verbosity.\n",
    "\n",
    "5. **Token Limit Warnings**: Checks if any examples exceed the maximum token limit (16,385 tokens), as such examples will be truncated during fine-tuning, potentially resulting in data loss.\n"
   ]
  },
  {
   "cell_type": "code",
   "execution_count": null,
   "metadata": {},
   "outputs": [],
   "source": [
    "# Warnings and tokens counts\n",
    "n_missing_system = 0\n",
    "n_missing_user = 0\n",
    "n_messages = []\n",
    "convo_lens = []\n",
    "assistant_message_lens = []\n",
    "for i, ex in enumerate(dataset):\n",
    "    messages = ex[\"messages\"]\n",
    "    if not any(message[\"role\"] == \"system\" for message in messages):\n",
    "        n_missing_system += 1\n",
    "    if not any(message[\"role\"] == \"user\" for message in messages):\n",
    "        n_missing_user += 1\n",
    "    n_messages.append(len(messages))\n",
    "    try:\n",
    "        convo_lens.append(num_tokens_from_messages(messages))\n",
    "        assistant_message_lens.append(num_assistant_tokens_from_messages(messages))\n",
    "    except Exception as e:\n",
    "        print(f\"Error processing example {i}:\")\n",
    "        print(f\"Messages: {messages}\")\n",
    "        print(f\"Error: {str(e)}\")\n",
    "        raise\n",
    "\n",
    "print(\"Num examples missing system message:\", n_missing_system)\n",
    "print(\"Num examples missing user message:\", n_missing_user)\n",
    "print_distribution(n_messages, \"num_messages_per_example\")\n",
    "print_distribution(convo_lens, \"num_total_tokens_per_example\")\n",
    "print_distribution(assistant_message_lens, \"num_assistant_tokens_per_example\")\n",
    "n_too_long = sum(l > 16385 for l in convo_lens)\n",
    "print(f\"\\n{n_too_long} examples may be over the 16,385 token limit, they will be truncated during fine-tuning\")"
   ]
  },
  {
   "cell_type": "markdown",
   "metadata": {},
   "source": [
    "### Cost Estimation\n",
    "\n",
    "Finally, we estimate the total number of tokens that will be used for fine-tuning, which allows us to approximate the cost. It is worth noting that the duration of the fine-tuning jobs will also increase with the token count."
   ]
  },
  {
   "cell_type": "code",
   "execution_count": null,
   "metadata": {},
   "outputs": [],
   "source": [
    "# Constants\n",
    "MAX_TOKENS_PER_EXAMPLE = 16385\n",
    "TARGET_EPOCHS = 3\n",
    "MIN_TARGET_EXAMPLES = 100\n",
    "MAX_TARGET_EXAMPLES = 25000\n",
    "MIN_DEFAULT_EPOCHS = 1\n",
    "MAX_DEFAULT_EPOCHS = 25\n",
    "\n",
    "def calculate_epochs(n_train_examples):\n",
    "    \"\"\"Calculate the number of epochs based on the number of training examples.\"\"\"\n",
    "    if n_train_examples * TARGET_EPOCHS < MIN_TARGET_EXAMPLES:\n",
    "        return min(MAX_DEFAULT_EPOCHS, math.ceil(MIN_TARGET_EXAMPLES / n_train_examples))\n",
    "    elif n_train_examples * TARGET_EPOCHS > MAX_TARGET_EXAMPLES:\n",
    "        return max(MIN_DEFAULT_EPOCHS, MAX_TARGET_EXAMPLES // n_train_examples)\n",
    "    return TARGET_EPOCHS\n",
    "\n",
    "def calculate_billing_tokens(convo_lens):\n",
    "    \"\"\"Calculate the number of billing tokens in the dataset.\"\"\"\n",
    "    return sum(min(MAX_TOKENS_PER_EXAMPLE, length) for length in convo_lens)\n",
    "\n",
    "def print_dataset_statistics(n_train_examples, convo_lens):\n",
    "    \"\"\"Print the dataset statistics and billing information.\"\"\"\n",
    "    n_epochs = calculate_epochs(n_train_examples)\n",
    "    n_billing_tokens = calculate_billing_tokens(convo_lens)\n",
    "    \n",
    "    print(f\"Dataset Statistics:\")\n",
    "    print(f\"- Number of training examples: {n_train_examples}\")\n",
    "    print(f\"- Approximate billable tokens: {n_billing_tokens}\")\n",
    "    print(f\"- Default number of epochs: {n_epochs}\")\n",
    "    print(f\"- Estimated total billable tokens: {n_epochs * n_billing_tokens}\")\n",
    "\n",
    "# Print the dataset statistics\n",
    "n_train_examples = len(dataset)\n",
    "print_dataset_statistics(n_train_examples, convo_lens)"
   ]
  },
  {
   "cell_type": "markdown",
   "metadata": {},
   "source": [
    "## Train / Test Split"
   ]
  },
  {
   "cell_type": "code",
   "execution_count": 47,
   "metadata": {},
   "outputs": [
    {
     "name": "stdout",
     "output_type": "stream",
     "text": [
      "Train data saved to: artifacts\\marv_fine_tune_train.jsonl\n",
      "Test data saved to: artifacts\\marv_fine_tune_test.jsonl\n",
      "Train set size: 80\n",
      "Test set size: 20\n"
     ]
    }
   ],
   "source": [
    "# Train / Test Split Functions for JSONL Files\n",
    "def split_jsonl_file(file_path, train_ratio=0.8):\n",
    "    # Read the input file\n",
    "    file_path = Path(file_path)\n",
    "    with file_path.open('r', encoding='utf-8') as f:\n",
    "        data = [json.loads(line) for line in f]\n",
    "    \n",
    "    # Shuffle the data\n",
    "    random.shuffle(data)\n",
    "    \n",
    "    # Calculate split index\n",
    "    split_index = int(len(data) * train_ratio)\n",
    "    \n",
    "    # Split the data\n",
    "    train_data = data[:split_index]\n",
    "    test_data = data[split_index:]\n",
    "    \n",
    "    # Prepare output file paths\n",
    "    train_file = file_path.with_name(f\"{file_path.stem}_train{file_path.suffix}\")\n",
    "    test_file = file_path.with_name(f\"{file_path.stem}_test{file_path.suffix}\")\n",
    "    \n",
    "    # Write train data\n",
    "    with train_file.open('w', encoding='utf-8') as f:\n",
    "        for item in train_data:\n",
    "            json.dump(item, f)\n",
    "            f.write('\\n')\n",
    "    \n",
    "    # Write test data\n",
    "    with test_file.open('w', encoding='utf-8') as f:\n",
    "        for item in test_data:\n",
    "            json.dump(item, f)\n",
    "            f.write('\\n')\n",
    "    \n",
    "    print(f\"Train data saved to: {train_file}\")\n",
    "    print(f\"Test data saved to: {test_file}\")\n",
    "    print(f\"Train set size: {len(train_data)}\")\n",
    "    print(f\"Test set size: {len(test_data)}\")\n",
    "\n",
    "# Usage\n",
    "file_path = \"./artifacts/marv_fine_tune.jsonl\"\n",
    "split_jsonl_file(file_path)"
   ]
  },
  {
   "cell_type": "markdown",
   "metadata": {},
   "source": [
    "## Creating a Fine-Tuning Job\n",
    "\n",
    "### Upload File"
   ]
  },
  {
   "cell_type": "code",
   "execution_count": 44,
   "metadata": {},
   "outputs": [],
   "source": [
    "# Upload the training data to the OpenAI API\n",
    "fine_tune_file = client.files.create(\n",
    "            file=open(\"./artifacts/marv_fine_tune.jsonl\", \"rb\"),\n",
    "            purpose=\"fine-tune\"\n",
    "            )"
   ]
  },
  {
   "cell_type": "markdown",
   "metadata": {},
   "source": [
    "### Create a Simple Fine-Tuning Job"
   ]
  },
  {
   "cell_type": "code",
   "execution_count": 46,
   "metadata": {},
   "outputs": [
    {
     "data": {
      "text/plain": [
       "FineTuningJob(id='ftjob-OHgkMsoSksrEt0cV04mef81l', created_at=1722466982, error=Error(code=None, message=None, param=None), fine_tuned_model=None, finished_at=None, hyperparameters=Hyperparameters(n_epochs='auto', batch_size='auto', learning_rate_multiplier='auto'), model='gpt-4o-mini-2024-07-18', object='fine_tuning.job', organization_id='org-SQH2HT1IvRszon9pdYwV1yvQ', result_files=[], seed=146873275, status='validating_files', trained_tokens=None, training_file='file-UMFTrHO0qLBbLoHUJpqr5jYq', validation_file=None, estimated_finish=None, integrations=[], user_provided_suffix=None)"
      ]
     },
     "execution_count": 46,
     "metadata": {},
     "output_type": "execute_result"
    }
   ],
   "source": [
    "# Create a fine-tuning job using the uploaded training data\n",
    "client.fine_tuning.jobs.create(\n",
    "    training_file=fine_tune_file.id, \n",
    "    model=\"gpt-4o-mini-2024-07-18\"\n",
    ")"
   ]
  },
  {
   "cell_type": "markdown",
   "metadata": {},
   "source": [
    "### Create a Fine-Tune Job with All Default Parameters"
   ]
  },
  {
   "cell_type": "code",
   "execution_count": 50,
   "metadata": {},
   "outputs": [],
   "source": [
    "# Create a fine-tuning job using the uploaded training data\n",
    "my_ft_job = client.fine_tuning.jobs.create(\n",
    "        model=\"gpt-4o-mini-2024-07-18\",\n",
    "        training_file=fine_tune_file.id, \n",
    "        validation_file=None,\n",
    "        hyperparameters={\n",
    "            \"batch_size\": \"auto\",\n",
    "            \"learning_rate_multiplier\": \"auto\",\n",
    "            \"n_epochs\": \"auto\",\n",
    "        },\n",
    "        suffix=None,\n",
    "        integrations=None,\n",
    "        seed=None,\n",
    "    )"
   ]
  },
  {
   "cell_type": "markdown",
   "metadata": {},
   "source": [
    "## Exploring Fine-Tuning Jobs\n",
    "\n",
    "### Listing Jobs"
   ]
  }
 ],
 "metadata": {
  "kernelspec": {
   "display_name": "NormalProgramming",
   "language": "python",
   "name": "python3"
  },
  "language_info": {
   "codemirror_mode": {
    "name": "ipython",
    "version": 3
   },
   "file_extension": ".py",
   "mimetype": "text/x-python",
   "name": "python",
   "nbconvert_exporter": "python",
   "pygments_lexer": "ipython3",
   "version": "3.11.4"
  }
 },
 "nbformat": 4,
 "nbformat_minor": 2
}
