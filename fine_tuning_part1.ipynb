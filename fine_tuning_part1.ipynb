{
 "cells": [
  {
   "cell_type": "markdown",
   "metadata": {},
   "source": [
    "# Working with Fine-Tuning\n",
    "\n",
    "# Part 1 - Getting Started"
   ]
  },
  {
   "cell_type": "markdown",
   "metadata": {},
   "source": [
    "## Univeral Code Used for the Entire Notebook\n",
    "\n",
    "Let's set up our libraries and client"
   ]
  },
  {
   "cell_type": "code",
   "execution_count": 1,
   "metadata": {},
   "outputs": [],
   "source": [
    "# Import necessary libraries and modules\n",
    "\n",
    "# OpenAI library for API interaction and event handling\n",
    "from openai import OpenAI  \n",
    "\n",
    "# JSON library for handling JSON data\n",
    "import json\n",
    "\n",
    "# TikToken library for token counting\n",
    "import tiktoken\n",
    "\n",
    "# NumPy library for numerical operations\n",
    "import numpy as np\n",
    "\n",
    "# defaultdict from the collections module for dictionary with default values\n",
    "from collections import defaultdict\n",
    "\n",
    "# Math library for mathematical operations\n",
    "import math\n",
    "\n"
   ]
  },
  {
   "cell_type": "code",
   "execution_count": 2,
   "metadata": {},
   "outputs": [],
   "source": [
    "# Initialize the OpenAI client\n",
    "client = OpenAI()  "
   ]
  },
  {
   "cell_type": "markdown",
   "metadata": {},
   "source": [
    "## Training File Format Validation"
   ]
  },
  {
   "cell_type": "markdown",
   "metadata": {},
   "source": [
    "### Data Loading"
   ]
  },
  {
   "cell_type": "code",
   "execution_count": 3,
   "metadata": {},
   "outputs": [
    {
     "name": "stdout",
     "output_type": "stream",
     "text": [
      "Number of examples: 50\n",
      "First example:\n",
      "{'role': 'system', 'content': 'Marv is a factual chatbot that is also sarcastic.'}\n",
      "{'role': 'user', 'content': \"What's the tallest mountain in the world?\"}\n",
      "{'role': 'assistant', 'content': \"Mount Everest. It's only the tallest thing on the planet.\"}\n"
     ]
    }
   ],
   "source": [
    "# Define the path to the dataset file\n",
    "data_path = \"./artifacts/marv_fine_tune.jsonl\"\n",
    "\n",
    "# Load the dataset\n",
    "with open(data_path, 'r', encoding='utf-8') as file:\n",
    "    dataset = [json.loads(line) for line in file]\n",
    "\n",
    "# Print initial dataset statistics\n",
    "print(\"Number of examples:\", len(dataset))\n",
    "print(\"First example:\")\n",
    "\n",
    "# Print messages from the first example in the dataset\n",
    "for message in dataset[0][\"messages\"]:\n",
    "    print(message)\n"
   ]
  },
  {
   "cell_type": "markdown",
   "metadata": {},
   "source": [
    "### Format Validation\n",
    "\n",
    "We can perform a variety of error checks to validate that each conversation in the dataset adheres to the format expected by the fine-tuning API. Errors are categorized based on their nature for easier debugging.\n",
    "\n",
    "1. **Data Type Check**: Checks whether each entry in the dataset is a dictionary (dict). Error type: `data_type`.\n",
    "\n",
    "2. **Presence of Message List**: Checks if a `messages` list is present in each entry. Error type: `missing_messages_list`.\n",
    "\n",
    "3. **Message Keys Check**: Validates that each message in the `messages` list contains the keys `role` and `content`. Error type: `message_missing_key`.\n",
    "\n",
    "4. **Unrecognized Keys in Messages**: Logs if a message has keys other than `role`, `content`, `weight`, `function_call`, and `name`. Error type: `message_unrecognized_key`.\n",
    "\n",
    "5. **Role Validation**: Ensures the `role` is one of \"system\", \"user\", or \"assistant\". Error type: `unrecognized_role`.\n",
    "\n",
    "6. **Content Validation**: Verifies that `content` has textual data and is a string. Error type: `missing_content`.\n",
    "\n",
    "7. **Assistant Message Presence**: Checks that each conversation has at least one message from the assistant. Error type: `example_missing_assistant_message`.\n"
   ]
  },
  {
   "cell_type": "code",
   "execution_count": 4,
   "metadata": {},
   "outputs": [
    {
     "name": "stdout",
     "output_type": "stream",
     "text": [
      "No errors found\n"
     ]
    }
   ],
   "source": [
    "# Dictionary to track format errors\n",
    "format_errors = defaultdict(int)\n",
    "\n",
    "# Iterate through each example in the dataset\n",
    "for ex in dataset:\n",
    "    # Check if the example is a dictionary\n",
    "    if not isinstance(ex, dict):\n",
    "        format_errors[\"data_type\"] += 1\n",
    "        continue\n",
    "    \n",
    "    # Retrieve the messages list from the example\n",
    "    messages = ex.get(\"messages\", None)\n",
    "    if not messages:\n",
    "        format_errors[\"missing_messages_list\"] += 1\n",
    "        continue\n",
    "    \n",
    "    # Check each message in the messages list\n",
    "    for message in messages:\n",
    "        # Check if required keys are present in the message\n",
    "        if \"role\" not in message or \"content\" not in message:\n",
    "            format_errors[\"message_missing_key\"] += 1\n",
    "        \n",
    "        # Check for any unrecognized keys in the message\n",
    "        if any(k not in (\"role\", \"content\", \"name\", \"function_call\", \"weight\") for k in message):\n",
    "            format_errors[\"message_unrecognized_key\"] += 1\n",
    "        \n",
    "        # Validate the role value in the message\n",
    "        if message.get(\"role\", None) not in (\"system\", \"user\", \"assistant\", \"function\"):\n",
    "            format_errors[\"unrecognized_role\"] += 1\n",
    "        \n",
    "        # Check content and function_call in the message\n",
    "        content = message.get(\"content\", None)\n",
    "        function_call = message.get(\"function_call\", None)\n",
    "        if (not content and not function_call) or not isinstance(content, str):\n",
    "            format_errors[\"missing_content\"] += 1\n",
    "    \n",
    "    # Ensure at least one message from the assistant is present\n",
    "    if not any(message.get(\"role\", None) == \"assistant\" for message in messages):\n",
    "        format_errors[\"example_missing_assistant_message\"] += 1\n",
    "\n",
    "# Print the results of the error checks\n",
    "if format_errors:\n",
    "    print(\"Found errors:\")\n",
    "    for key, value in format_errors.items():\n",
    "        print(f\"{key}: {value}\")\n",
    "else:\n",
    "    print(\"No errors found\")\n"
   ]
  },
  {
   "cell_type": "markdown",
   "metadata": {},
   "source": [
    "### Token Counting Utilities\n",
    "\n",
    "A few helpful utilities to be used in the rest of the notebook."
   ]
  },
  {
   "cell_type": "code",
   "execution_count": 5,
   "metadata": {},
   "outputs": [],
   "source": [
    "\n",
    "# Automatically get the encoding for a specific model\n",
    "encoding = tiktoken.encoding_for_model(\"gpt-4o\")\n",
    "\n",
    "\n",
    "# Function to count the number of tokens in messages\n",
    "# Note: This is a simplified version based on the example from the OpenAI cookbook\n",
    "def num_tokens_from_messages(messages, tokens_per_message=3, tokens_per_name=1):\n",
    "    \"\"\"\n",
    "    Calculate the number of tokens in a list of messages.\n",
    "    \n",
    "    Args:\n",
    "        messages (list): List of message dictionaries.\n",
    "        tokens_per_message (int): Base tokens per message.\n",
    "        tokens_per_name (int): Additional tokens for the 'name' field.\n",
    "\n",
    "    Returns:\n",
    "        int: Total number of tokens.\n",
    "    \"\"\"\n",
    "    num_tokens = 0\n",
    "    for message in messages:\n",
    "        num_tokens += tokens_per_message\n",
    "        for key, value in message.items():\n",
    "            num_tokens += len(encoding.encode(value))\n",
    "            if key == \"name\":\n",
    "                num_tokens += tokens_per_name\n",
    "    num_tokens += 3  # Adding 3 tokens for end of sequence\n",
    "    return num_tokens\n",
    "\n",
    "# Function to count the number of tokens from assistant messages\n",
    "def num_assistant_tokens_from_messages(messages):\n",
    "    \"\"\"\n",
    "    Calculate the number of tokens in assistant messages.\n",
    "    \n",
    "    Args:\n",
    "        messages (list): List of message dictionaries.\n",
    "\n",
    "    Returns:\n",
    "        int: Total number of tokens in assistant messages.\n",
    "    \"\"\"\n",
    "    num_tokens = 0\n",
    "    for message in messages:\n",
    "        if message[\"role\"] == \"assistant\":\n",
    "            num_tokens += len(encoding.encode(message[\"content\"]))\n",
    "    return num_tokens\n",
    "\n",
    "# Function to print the distribution of values\n",
    "def print_distribution(values, name):\n",
    "    \"\"\"\n",
    "    Print the distribution statistics of a list of values.\n",
    "    \n",
    "    Args:\n",
    "        values (list): List of numerical values.\n",
    "        name (str): Description of the values.\n",
    "    \"\"\"\n",
    "    print(f\"\\n#### Distribution of {name}:\")\n",
    "    print(f\"min / max: {min(values)} / {max(values)}\")\n",
    "    print(f\"mean / median: {np.mean(values)} / {np.median(values)}\")\n",
    "    print(f\"p5 / p95: {np.quantile(values, 0.05)} / {np.quantile(values, 0.95)}\")\n"
   ]
  },
  {
   "cell_type": "markdown",
   "metadata": {},
   "source": [
    "### Data Warnings and Token Counts\n",
    "\n",
    "With some lightweight analysis we can identify potential issues in the dataset, like missing messages, and provide statistical insights into message and token counts.\n",
    "\n",
    "1. **Missing System/User Messages**: Counts the number of conversations missing a \"system\" or \"user\" message. Such messages are critical for defining the assistant's behavior and initiating the conversation.\n",
    "\n",
    "2. **Number of Messages Per Example**: Summarizes the distribution of the number of messages in each conversation, providing insight into dialogue complexity.\n",
    "\n",
    "3. **Total Tokens Per Example**: Calculates and summarizes the distribution of the total number of tokens in each conversation. Important for understanding fine-tuning costs.\n",
    "\n",
    "4. **Tokens in Assistant's Messages**: Calculates the number of tokens in the assistant's messages per conversation and summarizes this distribution. Useful for understanding the assistant's verbosity.\n",
    "\n",
    "5. **Token Limit Warnings**: Checks if any examples exceed the maximum token limit (16,385 tokens), as such examples will be truncated during fine-tuning, potentially resulting in data loss.\n"
   ]
  },
  {
   "cell_type": "code",
   "execution_count": 6,
   "metadata": {},
   "outputs": [
    {
     "name": "stdout",
     "output_type": "stream",
     "text": [
      "Num examples missing system message: 0\n",
      "Num examples missing user message: 0\n",
      "\n",
      "#### Distribution of num_messages_per_example:\n",
      "min / max: 3 / 3\n",
      "mean / median: 3.0 / 3.0\n",
      "p5 / p95: 3.0 / 3.0\n",
      "\n",
      "#### Distribution of num_total_tokens_per_example:\n",
      "min / max: 40 / 52\n",
      "mean / median: 46.04 / 46.0\n",
      "p5 / p95: 41.45 / 50.55\n",
      "\n",
      "#### Distribution of num_assistant_tokens_per_example:\n",
      "min / max: 7 / 19\n",
      "mean / median: 10.84 / 11.0\n",
      "p5 / p95: 7.0 / 14.0\n",
      "\n",
      "0 examples may be over the 16,385 token limit, they will be truncated during fine-tuning\n"
     ]
    }
   ],
   "source": [
    "# Warnings and tokens counts\n",
    "n_missing_system = 0\n",
    "n_missing_user = 0\n",
    "n_messages = []\n",
    "convo_lens = []\n",
    "assistant_message_lens = []\n",
    "for ex in dataset:\n",
    "    messages = ex[\"messages\"]\n",
    "    if not any(message[\"role\"] == \"system\" for message in messages):\n",
    "        n_missing_system += 1\n",
    "    if not any(message[\"role\"] == \"user\" for message in messages):\n",
    "        n_missing_user += 1\n",
    "    n_messages.append(len(messages))\n",
    "    convo_lens.append(num_tokens_from_messages(messages))\n",
    "    assistant_message_lens.append(num_assistant_tokens_from_messages(messages))\n",
    "\n",
    "print(\"Num examples missing system message:\", n_missing_system)\n",
    "print(\"Num examples missing user message:\", n_missing_user)\n",
    "print_distribution(n_messages, \"num_messages_per_example\")\n",
    "print_distribution(convo_lens, \"num_total_tokens_per_example\")\n",
    "print_distribution(assistant_message_lens, \"num_assistant_tokens_per_example\")\n",
    "n_too_long = sum(l > 16385 for l in convo_lens)\n",
    "print(f\"\\n{n_too_long} examples may be over the 16,385 token limit, they will be truncated during fine-tuning\")"
   ]
  },
  {
   "cell_type": "markdown",
   "metadata": {},
   "source": [
    "### Cost Estimation\n",
    "\n",
    "Finally, we estimate the total number of tokens that will be used for fine-tuning, which allows us to approximate the cost. It is worth noting that the duration of the fine-tuning jobs will also increase with the token count."
   ]
  },
  {
   "cell_type": "code",
   "execution_count": 8,
   "metadata": {},
   "outputs": [
    {
     "name": "stdout",
     "output_type": "stream",
     "text": [
      "Dataset has approximately 2302 tokens that will be charged for during training\n",
      "By default, you'll train for 3 epochs on this dataset\n",
      "By default, you'll be charged for approximately 6906 tokens\n"
     ]
    }
   ],
   "source": [
    "# Constants for pricing and default number of epochs\n",
    "MAX_TOKENS_PER_EXAMPLE = 16385\n",
    "TARGET_EPOCHS = 3\n",
    "MIN_TARGET_EXAMPLES = 100\n",
    "MAX_TARGET_EXAMPLES = 25000\n",
    "MIN_DEFAULT_EPOCHS = 1\n",
    "MAX_DEFAULT_EPOCHS = 25\n",
    "\n",
    "# Initial number of epochs set to the target value\n",
    "n_epochs = TARGET_EPOCHS\n",
    "n_train_examples = len(dataset)\n",
    "\n",
    "# Adjust the number of epochs based on the number of training examples\n",
    "if n_train_examples * TARGET_EPOCHS < MIN_TARGET_EXAMPLES:\n",
    "    n_epochs = min(MAX_DEFAULT_EPOCHS, MIN_TARGET_EXAMPLES // n_train_examples)\n",
    "elif n_train_examples * TARGET_EPOCHS > MAX_TARGET_EXAMPLES:\n",
    "    n_epochs = max(MIN_DEFAULT_EPOCHS, MAX_TARGET_EXAMPLES // n_train_examples)\n",
    "\n",
    "# Calculate the number of billing tokens in the dataset\n",
    "n_billing_tokens_in_dataset = sum(min(MAX_TOKENS_PER_EXAMPLE, length) for length in convo_lens)\n",
    "\n",
    "# Print the dataset statistics and billing information\n",
    "print(f\"Dataset has approximately {n_billing_tokens_in_dataset} tokens that will be charged for during training\")\n",
    "print(f\"By default, you'll train for {n_epochs} epochs on this dataset\")\n",
    "print(f\"By default, you'll be charged for approximately {n_epochs * n_billing_tokens_in_dataset} tokens\")\n"
   ]
  },
  {
   "cell_type": "code",
   "execution_count": 9,
   "metadata": {},
   "outputs": [
    {
     "name": "stdout",
     "output_type": "stream",
     "text": [
      "Dataset Statistics:\n",
      "- Number of training examples: 50\n",
      "- Approximate billable tokens: 2302\n",
      "- Default number of epochs: 3\n",
      "- Estimated total billable tokens: 6906\n"
     ]
    }
   ],
   "source": [
    "\n",
    "\n",
    "# Constants\n",
    "MAX_TOKENS_PER_EXAMPLE = 16385\n",
    "TARGET_EPOCHS = 3\n",
    "MIN_TARGET_EXAMPLES = 100\n",
    "MAX_TARGET_EXAMPLES = 25000\n",
    "MIN_DEFAULT_EPOCHS = 1\n",
    "MAX_DEFAULT_EPOCHS = 25\n",
    "\n",
    "def calculate_epochs(n_train_examples):\n",
    "    \"\"\"Calculate the number of epochs based on the number of training examples.\"\"\"\n",
    "    if n_train_examples * TARGET_EPOCHS < MIN_TARGET_EXAMPLES:\n",
    "        return min(MAX_DEFAULT_EPOCHS, math.ceil(MIN_TARGET_EXAMPLES / n_train_examples))\n",
    "    elif n_train_examples * TARGET_EPOCHS > MAX_TARGET_EXAMPLES:\n",
    "        return max(MIN_DEFAULT_EPOCHS, MAX_TARGET_EXAMPLES // n_train_examples)\n",
    "    return TARGET_EPOCHS\n",
    "\n",
    "def calculate_billing_tokens(convo_lens):\n",
    "    \"\"\"Calculate the number of billing tokens in the dataset.\"\"\"\n",
    "    return sum(min(MAX_TOKENS_PER_EXAMPLE, length) for length in convo_lens)\n",
    "\n",
    "def print_dataset_statistics(n_train_examples, convo_lens):\n",
    "    \"\"\"Print the dataset statistics and billing information.\"\"\"\n",
    "    n_epochs = calculate_epochs(n_train_examples)\n",
    "    n_billing_tokens = calculate_billing_tokens(convo_lens)\n",
    "    \n",
    "    print(f\"Dataset Statistics:\")\n",
    "    print(f\"- Number of training examples: {n_train_examples}\")\n",
    "    print(f\"- Approximate billable tokens: {n_billing_tokens}\")\n",
    "    print(f\"- Default number of epochs: {n_epochs}\")\n",
    "    print(f\"- Estimated total billable tokens: {n_epochs * n_billing_tokens}\")\n",
    "\n",
    "# Print the dataset statistics\n",
    "n_train_examples = len(dataset)\n",
    "print_dataset_statistics(n_train_examples, convo_lens)"
   ]
  }
 ],
 "metadata": {
  "kernelspec": {
   "display_name": "NormalProgramming",
   "language": "python",
   "name": "python3"
  },
  "language_info": {
   "codemirror_mode": {
    "name": "ipython",
    "version": 3
   },
   "file_extension": ".py",
   "mimetype": "text/x-python",
   "name": "python",
   "nbconvert_exporter": "python",
   "pygments_lexer": "ipython3",
   "version": "3.11.4"
  }
 },
 "nbformat": 4,
 "nbformat_minor": 2
}
